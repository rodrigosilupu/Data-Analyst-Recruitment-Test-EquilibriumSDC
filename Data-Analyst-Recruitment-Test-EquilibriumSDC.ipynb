{
 "cells": [
  {
   "cell_type": "markdown",
   "metadata": {},
   "source": [
    "# Equilibrium Social Development Consulting"
   ]
  },
  {
   "cell_type": "code",
   "execution_count": 1,
   "metadata": {},
   "outputs": [],
   "source": [
    "import requests"
   ]
  },
  {
   "cell_type": "code",
   "execution_count": 2,
   "metadata": {},
   "outputs": [
    {
     "name": "stdout",
     "output_type": "stream",
     "text": [
      "Customers and orders CSV files have been added\n"
     ]
    }
   ],
   "source": [
    "def import_data_files():\n",
    "  r = requests.get('https://raw.githubusercontent.com/rodrigosilupu/python_data_bases/main/Pregunta_1/customers.csv')\n",
    "  with open('./customers.csv', 'wb') as f:\n",
    "    f.write(r.content)\n",
    "\n",
    "  r = requests.get('https://raw.githubusercontent.com/rodrigosilupu/python_data_bases/main/Pregunta_2/orders.csv')\n",
    "  with open('./orders.csv', 'wb') as f:\n",
    "    f.write(r.content)\n",
    "\n",
    "import_data_files()\n",
    "print(\"Customers and orders CSV files have been added\")"
   ]
  },
  {
   "cell_type": "markdown",
   "metadata": {},
   "source": [
    "Hint: Keep in mind that data might not be clean and you might have to figure out how to deal with that data from the code, without having to modify the data source."
   ]
  },
  {
   "cell_type": "markdown",
   "metadata": {},
   "source": [
    "# Exercise 1: Processing Customers data (difficulty basic)"
   ]
  },
  {
   "cell_type": "markdown",
   "metadata": {},
   "source": [
    "The sample customer data in 'customers.csv' file has just 5 columns: CustomerId, First Name, Last Name, City and State\n",
    "\n",
    "![Data sample](https://raw.githubusercontent.com/rodrigosilupu/python_data_bases/main/Pregunta_1/customers.png)"
   ]
  },
  {
   "cell_type": "markdown",
   "metadata": {},
   "source": [
    "Question #1: How many customers are in the file?"
   ]
  },
  {
   "cell_type": "markdown",
   "metadata": {},
   "source": [
    "Question #2: How many unique states are represented by the customers?\n",
    "<br> Hint: Exercise caution when processing the 'State' column."
   ]
  },
  {
   "cell_type": "markdown",
   "metadata": {},
   "source": [
    "Question #3 What is the state with most customers?"
   ]
  },
  {
   "cell_type": "markdown",
   "metadata": {},
   "source": [
    "Question #4 What is the state with the least customers?"
   ]
  },
  {
   "cell_type": "markdown",
   "metadata": {},
   "source": [
    "Question #5: What is the most common last name?"
   ]
  },
  {
   "cell_type": "markdown",
   "metadata": {},
   "source": [
    "Question #6: How can you visualize the distribution of customers by state using a bar chart?"
   ]
  },
  {
   "cell_type": "markdown",
   "metadata": {},
   "source": [
    "# Exercise 2: Processing Orders data (difficulty basic-medium)"
   ]
  },
  {
   "cell_type": "markdown",
   "metadata": {},
   "source": [
    "The second sample files contains orders placed by customers from the first file. Be careful, this file has many rows and you most likely should not print the contents of the whole file.\n",
    "\n",
    "The file contains the following columns: CustomerID, OrderID, Date, OrderTotal, ProductName, Price\n",
    "\n",
    "![Data sample](https://raw.githubusercontent.com/rodrigosilupu/python_data_bases/main/Pregunta_2/orders.png)"
   ]
  },
  {
   "cell_type": "markdown",
   "metadata": {},
   "source": [
    "Question #1: How many unique orders are in the orders.csv file?"
   ]
  },
  {
   "cell_type": "markdown",
   "metadata": {},
   "source": [
    "Question #2: What is the average number of items per order (rounded to two decimal places)?"
   ]
  },
  {
   "cell_type": "markdown",
   "metadata": {},
   "source": [
    "Question #3: What is the highest number of items per order?"
   ]
  },
  {
   "cell_type": "markdown",
   "metadata": {},
   "source": [
    "\n",
    "Question #4: What is the number of orders placed in October 2021?"
   ]
  },
  {
   "cell_type": "markdown",
   "metadata": {},
   "source": [
    "Question #5: Which customer spent the most amount of money in 2021?"
   ]
  },
  {
   "cell_type": "markdown",
   "metadata": {},
   "source": [
    "\n",
    "Question #6: Historically, what is the best month for sales?\n"
   ]
  },
  {
   "cell_type": "markdown",
   "metadata": {},
   "source": [
    "# Exercise 3: Shapefiles (difficulty medium)"
   ]
  },
  {
   "cell_type": "code",
   "execution_count": 3,
   "metadata": {},
   "outputs": [],
   "source": [
    "# First Shapefile\n",
    "def import_shapefiles():\n",
    "    base_url = 'https://raw.githubusercontent.com/rodrigosilupu/python_data_bases/main/Pregunta_3/sh_zonas/'\n",
    "    files = ['sh_zonas.shp', 'sh_zonas.shx', 'sh_zonas.dbf', 'sh_zonas.prj']\n",
    "\n",
    "    for file in files:\n",
    "        r = requests.get(base_url + file)\n",
    "        with open(f'./{file}', 'wb') as f:\n",
    "            f.write(r.content)\n",
    "import_shapefiles()"
   ]
  },
  {
   "cell_type": "markdown",
   "metadata": {},
   "source": [
    "This file contains 3 specific zones from a section of the Fernando de la Mora district in Paraguay. Specifically, the zones delineated in the following map:\n",
    "\n",
    "![Data sample](https://raw.githubusercontent.com/rodrigosilupu/python_data_bases/main/Pregunta_3/sh_zonas/output.png)\n",
    "\n",
    "Based on this, please carry out the following tasks:"
   ]
  },
  {
   "cell_type": "markdown",
   "metadata": {},
   "source": [
    "Task #1: Generate a map using 'sh_zonas'. Assign the following colors to each contratist:\n",
    "colors = ['#193c69', '#e65f3c', '#6e64aa']"
   ]
  },
  {
   "cell_type": "markdown",
   "metadata": {},
   "source": [
    "Task #2: Generate 100 random points distributed as follows: 33 in Pitiantuta, 33 in Norte, and 34 in Katupiry. Once generated, plot these points on the map from the previous question."
   ]
  },
  {
   "cell_type": "markdown",
   "metadata": {},
   "source": [
    "Task #3: For the set of 100 points, please follow these steps:\n",
    "\n",
    "1. Set the current coordinate system to EPSG:32721.\n",
    "    <br> #hint: use \"set_crs\"\n",
    "2. Designate WGS84 as the desired output coordinate system (EPSG:4326)\n",
    "    <br> #hint: Your code line should be: \"crs_wgs84 = 'EPSG:4326'\"\n",
    "3. Proceed to transform the points' coordinates to align with the WGS84 system.\n",
    "    <br> #hint: use \"to_crs\""
   ]
  },
  {
   "cell_type": "markdown",
   "metadata": {},
   "source": [
    "Task #4: Export the set of points to an Excel file. Ensure that the latitude is in one column and the longitude is in another separate column."
   ]
  }
 ],
 "metadata": {
  "kernelspec": {
   "display_name": "Python 3",
   "language": "python",
   "name": "python3"
  },
  "language_info": {
   "codemirror_mode": {
    "name": "ipython",
    "version": 3
   },
   "file_extension": ".py",
   "mimetype": "text/x-python",
   "name": "python",
   "nbconvert_exporter": "python",
   "pygments_lexer": "ipython3",
   "version": "3.11.4"
  },
  "orig_nbformat": 4
 },
 "nbformat": 4,
 "nbformat_minor": 2
}
